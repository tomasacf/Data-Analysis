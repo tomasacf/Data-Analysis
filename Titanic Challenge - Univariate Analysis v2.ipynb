{
 "cells": [
  {
   "cell_type": "markdown",
   "id": "eac64281",
   "metadata": {},
   "source": [
    "# Titanic Challenge - Univariate Analysis"
   ]
  },
  {
   "cell_type": "markdown",
   "id": "15530cf3",
   "metadata": {},
   "source": [
    "The objective of this explorative analysis will be to try to find patterns that predict the survival of a passenger on the Titanic. To achieve this, we must begin by organizing the data."
   ]
  },
  {
   "cell_type": "code",
   "execution_count": 1,
   "id": "492a3660",
   "metadata": {},
   "outputs": [
    {
     "name": "stdout",
     "output_type": "stream",
     "text": [
      "\n",
      "Data shape:  (891, 12)\n",
      "\n",
      "Number of duplicated rows:  0\n",
      "\n",
      "Missing Values in each column:\n",
      "\n",
      "\t Age 177 19.87%\n",
      "\n",
      "\t Cabin 687 77.10%\n",
      "\n",
      "\t Embarked 2 0.22%\n",
      "\n",
      "Number of unique values in each column:\n",
      "\n",
      "\tColumn 0 :  891\n",
      "\tColumn 1 :  2\n",
      "\tColumn 2 :  3\n",
      "\tColumn 3 :  891\n",
      "\tColumn 4 :  2\n",
      "\tColumn 5 :  88\n",
      "\tColumn 6 :  7\n",
      "\tColumn 7 :  7\n",
      "\tColumn 8 :  681\n",
      "\tColumn 9 :  248\n",
      "\tColumn 10 :  147\n",
      "\tColumn 11 :  3\n"
     ]
    }
   ],
   "source": [
    "import numpy as np\n",
    "import pandas as pd\n",
    "import matplotlib.pyplot as plt\n",
    "import seaborn as sns\n",
    "import datetime\n",
    "from IPython.display import display\n",
    "\n",
    "%matplotlib inline\n",
    "\n",
    "# Load the datasets\n",
    "train = pd.read_csv('train.csv')\n",
    "test = pd.read_csv('test.csv')\n",
    "gender = pd.read_csv('gender_submission.csv')\n",
    "\n",
    "# Print the shape of the dataset (lines, columns)\n",
    "print('\\nData shape: ', train.shape)\n",
    "        \n",
    "# Count duplicated rows\n",
    "df = pd.DataFrame(train)\n",
    "bool_series = df.duplicated(keep ='first')\n",
    "print('\\nNumber of duplicated rows: ', sum(bool_series))\n",
    "\n",
    "# Count the missing values in each column\n",
    "print('\\nMissing Values in each column:')\n",
    "for col in train.columns:\n",
    "    missing_train = train[col].isnull().sum()\n",
    "    if missing_train > 0:\n",
    "        print('\\n\\t',col, missing_train, \"{0:.2%}\".format(missing_train / train.shape[0]))\n",
    "\n",
    "# Count the distinct values in each column\n",
    "print('\\nNumber of unique values in each column:\\n')\n",
    "index = 0\n",
    "for col in train.nunique():\n",
    "    print('\\tColumn', index, ': ', col)\n",
    "    index += 1"
   ]
  },
  {
   "cell_type": "code",
   "execution_count": 2,
   "id": "cba28c99",
   "metadata": {
    "scrolled": true
   },
   "outputs": [
    {
     "data": {
      "text/plain": [
       "643"
      ]
     },
     "execution_count": 2,
     "metadata": {},
     "output_type": "execute_result"
    }
   ],
   "source": [
    "sum(train.iloc[:,9].duplicated())"
   ]
  },
  {
   "cell_type": "code",
   "execution_count": 3,
   "id": "f116a3c8",
   "metadata": {},
   "outputs": [
    {
     "data": {
      "text/html": [
       "<div>\n",
       "<style scoped>\n",
       "    .dataframe tbody tr th:only-of-type {\n",
       "        vertical-align: middle;\n",
       "    }\n",
       "\n",
       "    .dataframe tbody tr th {\n",
       "        vertical-align: top;\n",
       "    }\n",
       "\n",
       "    .dataframe thead th {\n",
       "        text-align: right;\n",
       "    }\n",
       "</style>\n",
       "<table border=\"1\" class=\"dataframe\">\n",
       "  <thead>\n",
       "    <tr style=\"text-align: right;\">\n",
       "      <th></th>\n",
       "      <th>PassengerId</th>\n",
       "      <th>Survived</th>\n",
       "      <th>Pclass</th>\n",
       "      <th>Name</th>\n",
       "      <th>Sex</th>\n",
       "      <th>Age</th>\n",
       "      <th>SibSp</th>\n",
       "      <th>Parch</th>\n",
       "      <th>Ticket</th>\n",
       "      <th>Fare</th>\n",
       "      <th>Cabin</th>\n",
       "      <th>Embarked</th>\n",
       "    </tr>\n",
       "  </thead>\n",
       "  <tbody>\n",
       "    <tr>\n",
       "      <th>0</th>\n",
       "      <td>1</td>\n",
       "      <td>0</td>\n",
       "      <td>3</td>\n",
       "      <td>Braund, Mr. Owen Harris</td>\n",
       "      <td>male</td>\n",
       "      <td>22.0</td>\n",
       "      <td>1</td>\n",
       "      <td>0</td>\n",
       "      <td>A/5 21171</td>\n",
       "      <td>7.2500</td>\n",
       "      <td>NaN</td>\n",
       "      <td>S</td>\n",
       "    </tr>\n",
       "    <tr>\n",
       "      <th>1</th>\n",
       "      <td>2</td>\n",
       "      <td>1</td>\n",
       "      <td>1</td>\n",
       "      <td>Cumings, Mrs. John Bradley (Florence Briggs Th...</td>\n",
       "      <td>female</td>\n",
       "      <td>38.0</td>\n",
       "      <td>1</td>\n",
       "      <td>0</td>\n",
       "      <td>PC 17599</td>\n",
       "      <td>71.2833</td>\n",
       "      <td>C85</td>\n",
       "      <td>C</td>\n",
       "    </tr>\n",
       "    <tr>\n",
       "      <th>2</th>\n",
       "      <td>3</td>\n",
       "      <td>1</td>\n",
       "      <td>3</td>\n",
       "      <td>Heikkinen, Miss. Laina</td>\n",
       "      <td>female</td>\n",
       "      <td>26.0</td>\n",
       "      <td>0</td>\n",
       "      <td>0</td>\n",
       "      <td>STON/O2. 3101282</td>\n",
       "      <td>7.9250</td>\n",
       "      <td>NaN</td>\n",
       "      <td>S</td>\n",
       "    </tr>\n",
       "    <tr>\n",
       "      <th>3</th>\n",
       "      <td>4</td>\n",
       "      <td>1</td>\n",
       "      <td>1</td>\n",
       "      <td>Futrelle, Mrs. Jacques Heath (Lily May Peel)</td>\n",
       "      <td>female</td>\n",
       "      <td>35.0</td>\n",
       "      <td>1</td>\n",
       "      <td>0</td>\n",
       "      <td>113803</td>\n",
       "      <td>53.1000</td>\n",
       "      <td>C123</td>\n",
       "      <td>S</td>\n",
       "    </tr>\n",
       "    <tr>\n",
       "      <th>4</th>\n",
       "      <td>5</td>\n",
       "      <td>0</td>\n",
       "      <td>3</td>\n",
       "      <td>Allen, Mr. William Henry</td>\n",
       "      <td>male</td>\n",
       "      <td>35.0</td>\n",
       "      <td>0</td>\n",
       "      <td>0</td>\n",
       "      <td>373450</td>\n",
       "      <td>8.0500</td>\n",
       "      <td>NaN</td>\n",
       "      <td>S</td>\n",
       "    </tr>\n",
       "  </tbody>\n",
       "</table>\n",
       "</div>"
      ],
      "text/plain": [
       "   PassengerId  Survived  Pclass  \\\n",
       "0            1         0       3   \n",
       "1            2         1       1   \n",
       "2            3         1       3   \n",
       "3            4         1       1   \n",
       "4            5         0       3   \n",
       "\n",
       "                                                Name     Sex   Age  SibSp  \\\n",
       "0                            Braund, Mr. Owen Harris    male  22.0      1   \n",
       "1  Cumings, Mrs. John Bradley (Florence Briggs Th...  female  38.0      1   \n",
       "2                             Heikkinen, Miss. Laina  female  26.0      0   \n",
       "3       Futrelle, Mrs. Jacques Heath (Lily May Peel)  female  35.0      1   \n",
       "4                           Allen, Mr. William Henry    male  35.0      0   \n",
       "\n",
       "   Parch            Ticket     Fare Cabin Embarked  \n",
       "0      0         A/5 21171   7.2500   NaN        S  \n",
       "1      0          PC 17599  71.2833   C85        C  \n",
       "2      0  STON/O2. 3101282   7.9250   NaN        S  \n",
       "3      0            113803  53.1000  C123        S  \n",
       "4      0            373450   8.0500   NaN        S  "
      ]
     },
     "execution_count": 3,
     "metadata": {},
     "output_type": "execute_result"
    }
   ],
   "source": [
    "train.head()"
   ]
  },
  {
   "cell_type": "markdown",
   "id": "2f6f43b7",
   "metadata": {},
   "source": [
    "#### Survival Rate"
   ]
  },
  {
   "cell_type": "markdown",
   "id": "1e57d3a9",
   "metadata": {},
   "source": [
    "The most elementary statistic we can do is determine the survival rate for a passenger, irrespective of their characteristics."
   ]
  },
  {
   "cell_type": "code",
   "execution_count": 4,
   "id": "ad86ba90",
   "metadata": {},
   "outputs": [
    {
     "name": "stdout",
     "output_type": "stream",
     "text": [
      "Survival counts:\n",
      " 0    549\n",
      "1    342\n",
      "Name: Survived, dtype: int64\n",
      "Survival percentage:\n",
      " 0    0.616162\n",
      "1    0.383838\n",
      "Name: Survived, dtype: float64\n"
     ]
    }
   ],
   "source": [
    "survivorq = train.loc[:, 'Survived'].value_counts()\n",
    "survivorq_perc = train.loc[:, 'Survived'].value_counts() / train.shape[0]\n",
    "print('Survival counts:\\n', survivorq)\n",
    "print('Survival percentage:\\n', survivorq_perc)\n"
   ]
  },
  {
   "cell_type": "markdown",
   "id": "0f3300d9",
   "metadata": {},
   "source": [
    "So, we have an average survival rate of <b>38.4%</b>. Now, let us compare the survival rate of people grouped by the different characteristics outlined in each column of the dataset.\n",
    "\n",
    "- <b>Ticket class (`Pclass`)</b>: <i>What if the richer class is better favored?</i>\n",
    "    \n",
    "- <b>`Sex`</b>: <i>What if women are better favored?</i>\n",
    "    \n",
    "- <b>`Age`</b>: <i>What if the young and elderly are better favored?</i>\n",
    "    \n",
    "- <b>If they have siblings/spouses on board (`SibSp`)</b>: <i>What if a parent with a child is better favored?</i>\n",
    "    \n",
    "- <b>If they have parents/children on board (`ParCh`)</b>: <i>If children are favored, wouldn't it make sense for at least one parent to be saved as well?</i>\n",
    "    \n",
    "- <b>Cost of the ticket (`Fare`)</b>: <i>Is the price of a fare related to privileges in an emergency situation?</i>\n",
    "\n",
    "\n"
   ]
  },
  {
   "cell_type": "markdown",
   "id": "d37dc5d2",
   "metadata": {},
   "source": [
    "Let us verify each one of these hypotheses."
   ]
  },
  {
   "cell_type": "code",
   "execution_count": 57,
   "id": "f5c66bfb",
   "metadata": {},
   "outputs": [],
   "source": [
    "# Survivor filter\n",
    "surv = train['Survived'].isin(train.loc[train['Survived'] == 1, 'Survived'])"
   ]
  },
  {
   "cell_type": "markdown",
   "id": "e170ac4a",
   "metadata": {},
   "source": [
    "### Sex"
   ]
  },
  {
   "cell_type": "markdown",
   "id": "22247d33",
   "metadata": {},
   "source": [
    "In James Cameron's famous movie, women were one of the better favored groups to leave the Titanic before others."
   ]
  },
  {
   "cell_type": "code",
   "execution_count": 6,
   "id": "c9bdf665",
   "metadata": {},
   "outputs": [
    {
     "data": {
      "text/plain": [
       "female    74.203822\n",
       "male      18.890815\n",
       "Name: Sex, dtype: float64"
      ]
     },
     "execution_count": 6,
     "metadata": {},
     "output_type": "execute_result"
    }
   ],
   "source": [
    "# Distinguished by sex\n",
    "sex_pass = train['Sex'].value_counts()\n",
    "\n",
    "# Survivors by sex\n",
    "s_sex_pass = train.loc[surv, 'Sex'].value_counts()\n",
    "\n",
    "perc_s_sex = s_sex_pass / sex_pass * 100\n",
    "perc_s_sex"
   ]
  },
  {
   "cell_type": "code",
   "execution_count": 7,
   "id": "2f222ce1",
   "metadata": {
    "scrolled": true
   },
   "outputs": [
    {
     "name": "stdout",
     "output_type": "stream",
     "text": [
      "Survival rate of female passengers: 74.20382165605095 \n",
      "Survival rate of male passengers: 18.890814558058924\n"
     ]
    }
   ],
   "source": [
    "print('Survival rate of female passengers:', perc_s_sex.iloc[0], '\\nSurvival rate of male passengers:' , perc_s_sex.iloc[1])"
   ]
  },
  {
   "cell_type": "code",
   "execution_count": 8,
   "id": "114c57bc",
   "metadata": {},
   "outputs": [
    {
     "data": {
      "image/png": "[encoded data removed]",
      "text/plain": [
       "<Figure size 1008x432 with 1 Axes>"
      ]
     },
     "metadata": {
      "needs_background": "light"
     },
     "output_type": "display_data"
    }
   ],
   "source": [
    "# Change font size\n",
    "SMALL_SIZE = 16\n",
    "plt.rc('font', size=SMALL_SIZE)\n",
    "plt.rc('axes', titlesize=SMALL_SIZE)\n",
    "\n",
    "# Plot figure\n",
    "ax = perc_s_sex.plot.bar(rot = 0, color = \"orange\", figsize = (14,6))\n",
    "plt.ylabel(\"Survival Rate\")\n",
    "plt.show()"
   ]
  },
  {
   "cell_type": "markdown",
   "id": "08288edc",
   "metadata": {},
   "source": [
    "The above numbers and graph show us that women were indeed highly favored above men."
   ]
  },
  {
   "cell_type": "markdown",
   "id": "d9711bca",
   "metadata": {},
   "source": [
    "### Class"
   ]
  },
  {
   "cell_type": "markdown",
   "id": "cafbd518",
   "metadata": {},
   "source": [
    "Status tends to play a significant role in all kinds of areas. Aboard the Titanic, we'd expect nothing different. That is, the type of ticket might include evacuation privileges in the event of a disaster. To verify this hypothesis, we group the passengers in terms of class."
   ]
  },
  {
   "cell_type": "code",
   "execution_count": 9,
   "id": "509720e6",
   "metadata": {},
   "outputs": [],
   "source": [
    "# Passengers grouped by class\n",
    "pcl_pass = train['Pclass'].value_counts()\n",
    "\n",
    "# Survivors grouped by class\n",
    "s_pcl_pass = train.loc[surv,'Pclass'].value_counts()"
   ]
  },
  {
   "cell_type": "code",
   "execution_count": 10,
   "id": "c47c8094",
   "metadata": {},
   "outputs": [],
   "source": [
    "perc_s_pcl = s_pcl_pass/ pcl_pass * 100"
   ]
  },
  {
   "cell_type": "code",
   "execution_count": 11,
   "id": "ff2da010",
   "metadata": {},
   "outputs": [
    {
     "name": "stdout",
     "output_type": "stream",
     "text": [
      "Survival rate of class 1 : 62.96296296296296\n",
      "Survival rate of class 2 : 47.28260869565217\n",
      "Survival rate of class 3 : 24.236252545824847\n"
     ]
    }
   ],
   "source": [
    "for x in range(0,3):\n",
    "    print('Survival rate of class', x + 1, ':', perc_s_pcl.iloc[x])"
   ]
  },
  {
   "cell_type": "code",
   "execution_count": 12,
   "id": "25b0e016",
   "metadata": {},
   "outputs": [
    {
     "data": {
      "image/png": "[encoded data removed]",
      "text/plain": [
       "<Figure size 1008x432 with 1 Axes>"
      ]
     },
     "metadata": {
      "needs_background": "light"
     },
     "output_type": "display_data"
    }
   ],
   "source": [
    "ax = perc_s_pcl.plot.bar(rot = 0, color = \"Red\", figsize = (14,6))\n",
    "plt.ylabel(\"Survival Rate\")\n",
    "plt.show()"
   ]
  },
  {
   "cell_type": "markdown",
   "id": "1f5af595",
   "metadata": {},
   "source": [
    "As expected, we see that higher classes are better favored."
   ]
  },
  {
   "cell_type": "markdown",
   "id": "8be55637",
   "metadata": {},
   "source": [
    "### Age"
   ]
  },
  {
   "cell_type": "markdown",
   "id": "f8ae0c0e",
   "metadata": {},
   "source": [
    "Since age is a quantity that varies a lot across the passengers, we shall study this quantity in terms of the following age bins:\n",
    "\n",
    "- <b>Children-Early Teens (0-14)</b>\n",
    "\n",
    "- <b>Teens-Young Adults (15-24)</b>\n",
    "\n",
    "- <b>Adults (25-64)</b>\n",
    "\n",
    "- <b>Elderly (65+)</b>\n",
    "\n",
    "The reason for this choice is simply to connect survivability with the age bins of cultural significance of the time. One was considered a child until they were 15, young adults until 25, and so on. "
   ]
  },
  {
   "cell_type": "code",
   "execution_count": 13,
   "id": "22b843fb",
   "metadata": {},
   "outputs": [],
   "source": [
    "# Creating age bins\n",
    "age_pass = pd.cut(train['Age'], bins = [0,14,24,64, max(train['Age']) + 0.001], include_lowest = True)\n",
    "\n",
    "# Passengers grouped by age bins\n",
    "age_pass = age_pass.value_counts()\n",
    "\n",
    "# Survivors grouped by age bins\n",
    "s_age_pass = pd.cut(train.loc[surv, 'Age'], bins = [0,14,24,64, max(train['Age']) + 0.001], include_lowest = True)\n",
    "s_age_pass = s_age_pass.value_counts()\n",
    "\n",
    "# Survival rate\n",
    "perc_s_age = s_age_pass / age_pass * 100\n",
    "perc_s_age = perc_s_age.sort_index()"
   ]
  },
  {
   "cell_type": "code",
   "execution_count": 14,
   "id": "c263cc9e",
   "metadata": {},
   "outputs": [
    {
     "name": "stdout",
     "output_type": "stream",
     "text": [
      "Survival rate of ages 0-14 : 58.44155844155844\n",
      "Survival rate of ages 15-24 : 36.5\n",
      "Survival rate of ages 25-64 : 40.140845070422536\n",
      "Survival rate of ages 65+ : 9.090909090909092\n"
     ]
    }
   ],
   "source": [
    "bin = ['0-14', '15-24', '25-64', '65+']\n",
    "for x in range(0,len(bin)):\n",
    "    print('Survival rate of ages', bin[x], ':', perc_s_age.iloc[x])"
   ]
  },
  {
   "cell_type": "code",
   "execution_count": 15,
   "id": "2785a899",
   "metadata": {},
   "outputs": [
    {
     "data": {
      "image/png": "[encoded data removed]",
      "text/plain": [
       "<Figure size 1008x432 with 1 Axes>"
      ]
     },
     "metadata": {
      "needs_background": "light"
     },
     "output_type": "display_data"
    }
   ],
   "source": [
    "x = ['0-14', '15-24', '25-64', '65+']\n",
    "\n",
    "plt.figure(figsize = (14,6))\n",
    "plt.bar(x, perc_s_age, color = 'blue')\n",
    "plt.ylabel(\"Survival Rate\")\n",
    "plt.xlabel(\"Age Group\")\n",
    "plt.show()"
   ]
  },
  {
   "cell_type": "markdown",
   "id": "fc89c4d4",
   "metadata": {},
   "source": [
    "The survival rate is highest among youngsters and lowest for the elderly. In a very naturalistic sense, this would indicate that people with higher life expectancy are - on average - better favored.\n",
    "\n",
    "However, the slight favor of adults compared to teenagers contradicts this more naturalistic argument. A possible explanation might be that, in times of peril, adults are more resourceful than teenagers. For example, the row-boats were most likely operated by adults rather than teenagers/young adults.\n",
    "\n",
    "In addition, this difference might be caused by other factors, such as the accumulation of more wealth within the 25-64 age group, which - as we have seen in the `Pclass` analysis - increases the chances of survival (assuming, of course, the logical sense that higher ticket classes are more expensive than lower class tickets)."
   ]
  },
  {
   "cell_type": "markdown",
   "id": "c112b627",
   "metadata": {},
   "source": [
    "### SibSp"
   ]
  },
  {
   "cell_type": "markdown",
   "id": "a62457ae",
   "metadata": {},
   "source": [
    "Familial ties may also play a role in survivability. However, contrary to the other characteristics we've worked with so far, we don't have a clear expectation and/or hypothesis for how this affects the survival rate. In an emergency setting, would the evacuation policy have a predilection for families at once? Or do they prefer to diversify the survivors, as to not apply favoritism to specific families?\n",
    "\n",
    "Let's figure it out."
   ]
  },
  {
   "cell_type": "code",
   "execution_count": 16,
   "id": "6b3ad532",
   "metadata": {},
   "outputs": [
    {
     "data": {
      "text/plain": [
       "0    608\n",
       "1    209\n",
       "2     28\n",
       "3     16\n",
       "4     18\n",
       "5      5\n",
       "8      7\n",
       "Name: SibSp, dtype: int64"
      ]
     },
     "execution_count": 16,
     "metadata": {},
     "output_type": "execute_result"
    }
   ],
   "source": [
    "sibsp_pass = train['SibSp'].value_counts().sort_index()\n",
    "sibsp_pass"
   ]
  },
  {
   "cell_type": "markdown",
   "id": "ae76cc10",
   "metadata": {},
   "source": [
    "There are 7 groups within this column, which shall be the bins we use to calculate the survival rates."
   ]
  },
  {
   "cell_type": "code",
   "execution_count": 17,
   "id": "f6442ba2",
   "metadata": {},
   "outputs": [],
   "source": [
    "d_sibsp_pass = train.loc[~surv, 'SibSp'].value_counts().sort_index()\n",
    "s_sibsp_pass = sibsp_pass - d_sibsp_pass\n",
    "\n",
    "perc_s_sibsp = s_sibsp_pass / sibsp_pass * 100\n",
    "perc_s_sibsp = perc_s_sibsp.replace(np.nan, 0)"
   ]
  },
  {
   "cell_type": "code",
   "execution_count": 18,
   "id": "c928060a",
   "metadata": {},
   "outputs": [
    {
     "name": "stdout",
     "output_type": "stream",
     "text": [
      "Survival rate of  0 sibling(s) and/or spouse: 34.53947368421053\n",
      "Survival rate of  1 sibling(s) and/or spouse: 53.588516746411486\n",
      "Survival rate of  2 sibling(s) and/or spouse: 46.42857142857143\n",
      "Survival rate of  3 sibling(s) and/or spouse: 25.0\n",
      "Survival rate of  4 sibling(s) and/or spouse: 16.666666666666664\n",
      "Survival rate of  5 sibling(s) and/or spouse: 0.0\n",
      "Survival rate of  8 sibling(s) and/or spouse: 0.0\n"
     ]
    }
   ],
   "source": [
    "for x in range(0, len(sibsp_pass)):\n",
    "    print('Survival rate of ', perc_s_sibsp.index[x], 'sibling(s) and/or spouse:', perc_s_sibsp.iloc[x])"
   ]
  },
  {
   "cell_type": "code",
   "execution_count": 19,
   "id": "40993cdf",
   "metadata": {
    "scrolled": false
   },
   "outputs": [
    {
     "data": {
      "image/png": "[encoded data removed]",
      "text/plain": [
       "<Figure size 1008x432 with 1 Axes>"
      ]
     },
     "metadata": {
      "needs_background": "light"
     },
     "output_type": "display_data"
    }
   ],
   "source": [
    "ax = perc_s_sibsp.plot.bar(rot = 0, color = 'blue', figsize = (14,6))\n",
    "plt.ylabel(\"Survival Rate\")\n",
    "plt.xlabel(\"Number of Sibling(s) + Spouse\")\n",
    "plt.show()"
   ]
  },
  {
   "cell_type": "code",
   "execution_count": 20,
   "id": "abaa7593",
   "metadata": {},
   "outputs": [
    {
     "data": {
      "image/png": "[encoded data removed]",
      "text/plain": [
       "<Figure size 1008x432 with 1 Axes>"
      ]
     },
     "metadata": {
      "needs_background": "light"
     },
     "output_type": "display_data"
    }
   ],
   "source": [
    "perc_d_sibsp = d_sibsp_pass / sibsp_pass * 100\n",
    "\n",
    "ax = perc_d_sibsp.plot.bar(rot = 0, color = 'red', figsize = (14,6))\n",
    "plt.ylabel(\"Survival Rate\")\n",
    "plt.xlabel(\"Number of Sibling(s) + Spouse\")\n",
    "plt.show()"
   ]
  },
  {
   "cell_type": "markdown",
   "id": "ebb0cc3e",
   "metadata": {},
   "source": [
    "Because there 0 survivors in some categories, perhaps it might be useful to use stacked graphs."
   ]
  },
  {
   "cell_type": "code",
   "execution_count": 21,
   "id": "74cd0ccb",
   "metadata": {},
   "outputs": [
    {
     "data": {
      "image/png": "[encoded data removed]",
      "text/plain": [
       "<Figure size 1008x432 with 1 Axes>"
      ]
     },
     "metadata": {
      "needs_background": "light"
     },
     "output_type": "display_data"
    }
   ],
   "source": [
    "labels = ['0','1','2','3','4','5','8']\n",
    "y0 = perc_s_sibsp\n",
    "y1 = perc_d_sibsp\n",
    "width = 0.35       \n",
    "\n",
    "# the width of the bars: can also be len(x) sequence\n",
    "\n",
    "fig, ax = plt.subplots(figsize = (14,6))\n",
    "\n",
    "ax.bar(labels, y0, width, color = 'b', label=\"Survival Rate\")\n",
    "ax.bar(labels, y1, width, color = 'r', label='Death Rate',  bottom = y0)\n",
    "\n",
    "ax.set_ylabel('Percentage')\n",
    "ax.set_xlabel('Number of Sibling(s) + Spouse')\n",
    "ax.legend()\n",
    "\n",
    "plt.show()"
   ]
  },
  {
   "cell_type": "markdown",
   "id": "7a29f639",
   "metadata": {},
   "source": [
    "The only reason we included this extra plot is to show that the survival rate is 0% for the numbers 5 and 8, and not an error in our plot of the data."
   ]
  },
  {
   "cell_type": "markdown",
   "id": "56a0e2b2",
   "metadata": {},
   "source": [
    "What we find from these graphs is that the survival rate is maximum at 1 and slowly decreases to 0 as the family size increases. The reason behind this behavior might be that potential survivors refused to leave the vessel because they didn't want to leave their families behind. That is, while they themselves were eligible to leave the Titanic, their family members were not.\n",
    "\n",
    "The maximum at 1 might be that, although large families occupy too much space, it is very little effort for two siblings or a husband and wife to evacuate together. Might even be possible to extrapolate the number of passengers in each row-boat by 1, without a problem. "
   ]
  },
  {
   "cell_type": "markdown",
   "id": "7cba6b83",
   "metadata": {},
   "source": [
    "### Parch"
   ]
  },
  {
   "cell_type": "markdown",
   "id": "755115b9",
   "metadata": {},
   "source": [
    "Compared to the `SibSp` column, the Parent/Child (`Parch`) relation is one of much higher dependency. That is, if a child is evacuated, it would be interesting to pair them with at least one of the two parents. Futhermore, given the analysis in the `Sex` column highly favoring women, we'd expect women would have a very high survival rate in this setting. However, we leave this final hypothesis to be discussed in the eventual bivariate analysis, which shall be done in another notebook.\n",
    "\n",
    "For now, we shall repeat the same style of analysis as was done with the `SibSp` column."
   ]
  },
  {
   "cell_type": "code",
   "execution_count": 58,
   "id": "c2d641d0",
   "metadata": {
    "scrolled": true
   },
   "outputs": [
    {
     "data": {
      "text/plain": [
       "0    34.365782\n",
       "1    55.084746\n",
       "2    50.000000\n",
       "3    60.000000\n",
       "4     0.000000\n",
       "5    20.000000\n",
       "6     0.000000\n",
       "Name: Parch, dtype: float64"
      ]
     },
     "execution_count": 58,
     "metadata": {},
     "output_type": "execute_result"
    }
   ],
   "source": [
    "parch_pass = train['Parch'].value_counts().sort_index()\n",
    "s_parch_pass = train.loc[surv, 'Parch'].value_counts().sort_index()\n",
    "d_parch_pass = train.loc[~surv, 'Parch'].value_counts().sort_index()\n",
    "\n",
    "perc_d_parch = d_parch_pass / parch_pass * 100\n",
    "perc_s_parch = s_parch_pass / parch_pass * 100\n",
    "perc_s_parch = perc_s_parch.replace(np.nan, 0)\n",
    "\n",
    "perc_s_parch"
   ]
  },
  {
   "cell_type": "code",
   "execution_count": 59,
   "id": "a49d7bf0",
   "metadata": {},
   "outputs": [
    {
     "data": {
      "text/plain": [
       "0     65.634218\n",
       "1     44.915254\n",
       "2     50.000000\n",
       "3     40.000000\n",
       "4    100.000000\n",
       "5     80.000000\n",
       "6    100.000000\n",
       "Name: Parch, dtype: float64"
      ]
     },
     "execution_count": 59,
     "metadata": {},
     "output_type": "execute_result"
    }
   ],
   "source": [
    "perc_d_parch"
   ]
  },
  {
   "cell_type": "code",
   "execution_count": 60,
   "id": "13c08ac0",
   "metadata": {},
   "outputs": [
    {
     "name": "stdout",
     "output_type": "stream",
     "text": [
      "Survival rate of  0 parent(s) and/or child(ren): 34.365781710914455\n",
      "Survival rate of  1 parent(s) and/or child(ren): 55.08474576271186\n",
      "Survival rate of  2 parent(s) and/or child(ren): 50.0\n",
      "Survival rate of  3 parent(s) and/or child(ren): 60.0\n",
      "Survival rate of  4 parent(s) and/or child(ren): 0.0\n",
      "Survival rate of  5 parent(s) and/or child(ren): 20.0\n",
      "Survival rate of  6 parent(s) and/or child(ren): 0.0\n"
     ]
    }
   ],
   "source": [
    "for x in range(0, len(parch_pass)):\n",
    "    print('Survival rate of ', perc_s_parch.index[x], 'parent(s) and/or child(ren):', perc_s_parch.iloc[x])"
   ]
  },
  {
   "cell_type": "code",
   "execution_count": 25,
   "id": "5a581463",
   "metadata": {},
   "outputs": [
    {
     "data": {
      "image/png": "[encoded data removed]",
      "text/plain": [
       "<Figure size 1008x432 with 1 Axes>"
      ]
     },
     "metadata": {
      "needs_background": "light"
     },
     "output_type": "display_data"
    }
   ],
   "source": [
    "labels = ['0','1','2','3','4','5','6']\n",
    "y0 = perc_s_parch\n",
    "y1 = perc_d_parch\n",
    "width = 0.35       \n",
    "\n",
    "# the width of the bars: can also be len(x) sequence\n",
    "\n",
    "fig, ax = plt.subplots(figsize = (14,6))\n",
    "\n",
    "ax.bar(labels, y0, width, color = 'b', label=\"Survival Rate\")\n",
    "ax.bar(labels, y1, width, color = 'r', label='Death Rate',  bottom = y0)\n",
    "\n",
    "ax.set_ylabel('Percentage')\n",
    "ax.set_xlabel('Number of Parents + Children')\n",
    "ax.legend()\n",
    "\n",
    "plt.show()"
   ]
  },
  {
   "cell_type": "markdown",
   "id": "972a04d3",
   "metadata": {},
   "source": [
    "Here the survival doesn't have such a regular tendency. Furthermore, while we observe 0% survival rate at 4 and 6, we see 20% at 5. Looking at the number of people in each category, we find that this result might be an outlier, since only a single person with 5 parents+children survived.\n",
    "\n",
    "To develop a specific understanding of why this person survived, let us identify them."
   ]
  },
  {
   "cell_type": "code",
   "execution_count": 26,
   "id": "35b39590",
   "metadata": {},
   "outputs": [
    {
     "data": {
      "text/plain": [
       "0    678\n",
       "1    118\n",
       "2     80\n",
       "3      5\n",
       "4      4\n",
       "5      5\n",
       "6      1\n",
       "Name: Parch, dtype: int64"
      ]
     },
     "execution_count": 26,
     "metadata": {},
     "output_type": "execute_result"
    }
   ],
   "source": [
    "parch_pass"
   ]
  },
  {
   "cell_type": "code",
   "execution_count": 27,
   "id": "f6ff28f5",
   "metadata": {},
   "outputs": [
    {
     "data": {
      "text/html": [
       "<div>\n",
       "<style scoped>\n",
       "    .dataframe tbody tr th:only-of-type {\n",
       "        vertical-align: middle;\n",
       "    }\n",
       "\n",
       "    .dataframe tbody tr th {\n",
       "        vertical-align: top;\n",
       "    }\n",
       "\n",
       "    .dataframe thead th {\n",
       "        text-align: right;\n",
       "    }\n",
       "</style>\n",
       "<table border=\"1\" class=\"dataframe\">\n",
       "  <thead>\n",
       "    <tr style=\"text-align: right;\">\n",
       "      <th></th>\n",
       "      <th>PassengerId</th>\n",
       "      <th>Survived</th>\n",
       "      <th>Pclass</th>\n",
       "      <th>Name</th>\n",
       "      <th>Sex</th>\n",
       "      <th>Age</th>\n",
       "      <th>SibSp</th>\n",
       "      <th>Parch</th>\n",
       "      <th>Ticket</th>\n",
       "      <th>Fare</th>\n",
       "      <th>Cabin</th>\n",
       "      <th>Embarked</th>\n",
       "    </tr>\n",
       "  </thead>\n",
       "  <tbody>\n",
       "    <tr>\n",
       "      <th>25</th>\n",
       "      <td>26</td>\n",
       "      <td>1</td>\n",
       "      <td>3</td>\n",
       "      <td>Asplund, Mrs. Carl Oscar (Selma Augusta Emilia...</td>\n",
       "      <td>female</td>\n",
       "      <td>38.0</td>\n",
       "      <td>1</td>\n",
       "      <td>5</td>\n",
       "      <td>347077</td>\n",
       "      <td>31.3875</td>\n",
       "      <td>NaN</td>\n",
       "      <td>S</td>\n",
       "    </tr>\n",
       "  </tbody>\n",
       "</table>\n",
       "</div>"
      ],
      "text/plain": [
       "    PassengerId  Survived  Pclass  \\\n",
       "25           26         1       3   \n",
       "\n",
       "                                                 Name     Sex   Age  SibSp  \\\n",
       "25  Asplund, Mrs. Carl Oscar (Selma Augusta Emilia...  female  38.0      1   \n",
       "\n",
       "    Parch  Ticket     Fare Cabin Embarked  \n",
       "25      5  347077  31.3875   NaN        S  "
      ]
     },
     "execution_count": 27,
     "metadata": {},
     "output_type": "execute_result"
    }
   ],
   "source": [
    "train.loc[surv & (train['Parch'] == 5), :]"
   ]
  },
  {
   "cell_type": "markdown",
   "id": "e7c066d6",
   "metadata": {},
   "source": [
    "So, it is a female with a spouse onboard, with 2/1/0 parents and 3/4/5 children. We note also that this person is in the least favored class of survival and the second-favored age bin. Let us see if her husband survived."
   ]
  },
  {
   "cell_type": "code",
   "execution_count": 63,
   "id": "20f01474",
   "metadata": {},
   "outputs": [
    {
     "data": {
      "text/plain": [
       "[26, 183, 234, 262]"
      ]
     },
     "execution_count": 63,
     "metadata": {},
     "output_type": "execute_result"
    }
   ],
   "source": [
    "strr = 'Asplund'\n",
    "Asplund_pass = []\n",
    "for x in train['Name']:\n",
    "    for y in range(0, len(strr)):\n",
    "        if x[y] != strr[y]:\n",
    "            break\n",
    "        if y == len(strr) - 1:\n",
    "            Asplund_pass.append(train.loc[train['Name'] == x, 'PassengerId'].index[0] + 1)\n",
    "Asplund_pass"
   ]
  },
  {
   "cell_type": "code",
   "execution_count": 64,
   "id": "f57fe73c",
   "metadata": {
    "scrolled": true
   },
   "outputs": [
    {
     "data": {
      "text/html": [
       "<div>\n",
       "<style scoped>\n",
       "    .dataframe tbody tr th:only-of-type {\n",
       "        vertical-align: middle;\n",
       "    }\n",
       "\n",
       "    .dataframe tbody tr th {\n",
       "        vertical-align: top;\n",
       "    }\n",
       "\n",
       "    .dataframe thead th {\n",
       "        text-align: right;\n",
       "    }\n",
       "</style>\n",
       "<table border=\"1\" class=\"dataframe\">\n",
       "  <thead>\n",
       "    <tr style=\"text-align: right;\">\n",
       "      <th></th>\n",
       "      <th>PassengerId</th>\n",
       "      <th>Survived</th>\n",
       "      <th>Pclass</th>\n",
       "      <th>Name</th>\n",
       "      <th>Sex</th>\n",
       "      <th>Age</th>\n",
       "      <th>SibSp</th>\n",
       "      <th>Parch</th>\n",
       "      <th>Ticket</th>\n",
       "      <th>Fare</th>\n",
       "      <th>Cabin</th>\n",
       "      <th>Embarked</th>\n",
       "    </tr>\n",
       "  </thead>\n",
       "  <tbody>\n",
       "    <tr>\n",
       "      <th>25</th>\n",
       "      <td>26</td>\n",
       "      <td>1</td>\n",
       "      <td>3</td>\n",
       "      <td>Asplund, Mrs. Carl Oscar (Selma Augusta Emilia...</td>\n",
       "      <td>female</td>\n",
       "      <td>38.0</td>\n",
       "      <td>1</td>\n",
       "      <td>5</td>\n",
       "      <td>347077</td>\n",
       "      <td>31.3875</td>\n",
       "      <td>NaN</td>\n",
       "      <td>S</td>\n",
       "    </tr>\n",
       "    <tr>\n",
       "      <th>182</th>\n",
       "      <td>183</td>\n",
       "      <td>0</td>\n",
       "      <td>3</td>\n",
       "      <td>Asplund, Master. Clarence Gustaf Hugo</td>\n",
       "      <td>male</td>\n",
       "      <td>9.0</td>\n",
       "      <td>4</td>\n",
       "      <td>2</td>\n",
       "      <td>347077</td>\n",
       "      <td>31.3875</td>\n",
       "      <td>NaN</td>\n",
       "      <td>S</td>\n",
       "    </tr>\n",
       "    <tr>\n",
       "      <th>233</th>\n",
       "      <td>234</td>\n",
       "      <td>1</td>\n",
       "      <td>3</td>\n",
       "      <td>Asplund, Miss. Lillian Gertrud</td>\n",
       "      <td>female</td>\n",
       "      <td>5.0</td>\n",
       "      <td>4</td>\n",
       "      <td>2</td>\n",
       "      <td>347077</td>\n",
       "      <td>31.3875</td>\n",
       "      <td>NaN</td>\n",
       "      <td>S</td>\n",
       "    </tr>\n",
       "    <tr>\n",
       "      <th>261</th>\n",
       "      <td>262</td>\n",
       "      <td>1</td>\n",
       "      <td>3</td>\n",
       "      <td>Asplund, Master. Edvin Rojj Felix</td>\n",
       "      <td>male</td>\n",
       "      <td>3.0</td>\n",
       "      <td>4</td>\n",
       "      <td>2</td>\n",
       "      <td>347077</td>\n",
       "      <td>31.3875</td>\n",
       "      <td>NaN</td>\n",
       "      <td>S</td>\n",
       "    </tr>\n",
       "  </tbody>\n",
       "</table>\n",
       "</div>"
      ],
      "text/plain": [
       "     PassengerId  Survived  Pclass  \\\n",
       "25            26         1       3   \n",
       "182          183         0       3   \n",
       "233          234         1       3   \n",
       "261          262         1       3   \n",
       "\n",
       "                                                  Name     Sex   Age  SibSp  \\\n",
       "25   Asplund, Mrs. Carl Oscar (Selma Augusta Emilia...  female  38.0      1   \n",
       "182              Asplund, Master. Clarence Gustaf Hugo    male   9.0      4   \n",
       "233                     Asplund, Miss. Lillian Gertrud  female   5.0      4   \n",
       "261                  Asplund, Master. Edvin Rojj Felix    male   3.0      4   \n",
       "\n",
       "     Parch  Ticket     Fare Cabin Embarked  \n",
       "25       5  347077  31.3875   NaN        S  \n",
       "182      2  347077  31.3875   NaN        S  \n",
       "233      2  347077  31.3875   NaN        S  \n",
       "261      2  347077  31.3875   NaN        S  "
      ]
     },
     "execution_count": 64,
     "metadata": {},
     "output_type": "execute_result"
    }
   ],
   "source": [
    "Asplund_filter = train['PassengerId'].isin(Asplund_pass)\n",
    "Asplund_family = train.loc[Asplund_filter, :]\n",
    "Asplund_family"
   ]
  },
  {
   "cell_type": "code",
   "execution_count": 32,
   "id": "e41672fc",
   "metadata": {},
   "outputs": [
    {
     "data": {
      "text/plain": [
       "'Asplund, Mrs. Carl Oscar (Selma Augusta Emilia Johansson)'"
      ]
     },
     "execution_count": 32,
     "metadata": {},
     "output_type": "execute_result"
    }
   ],
   "source": [
    "Asplund_family.iloc[0]['Name']"
   ]
  },
  {
   "cell_type": "markdown",
   "id": "eddc4103",
   "metadata": {},
   "source": [
    "We found the Asplund family, but no sign of Selma's spouse. From a Google search, we found that he was in fact one of the victims of the Titanic and that his full name is 'Carl Oscar Vilhelm Gustafsson Asplund'. Perhaps his name doesn't start with Asplund in the registry. Let us try his other last names."
   ]
  },
  {
   "cell_type": "code",
   "execution_count": 65,
   "id": "7adb9e60",
   "metadata": {},
   "outputs": [],
   "source": [
    "strr = 'Vilhelm'\n",
    "Vilhelm_pass = []\n",
    "for x in train['Name']:\n",
    "    for y in range(0, len(strr)):\n",
    "        if x[y] != strr[y]:\n",
    "            break\n",
    "        if y == len(strr) - 1:\n",
    "            Vilhelm_pass.append(train.loc[train['Name'] == x, 'PassengerId'].index[0] + 1)\n",
    "\n",
    "strr = 'Gustafsson'\n",
    "Gustafsson_pass = []\n",
    "for x in train['Name']:\n",
    "    for y in range(0, len(strr)):\n",
    "        if x[y] != strr[y]:\n",
    "            break\n",
    "        if y == len(strr) - 1:\n",
    "            Gustafsson_pass.append(train.loc[train['Name'] == x, 'PassengerId'].index[0] + 1)\n",
    "            \n",
    "strr = 'Oscar'\n",
    "Oscar_pass = []\n",
    "for x in train['Name']:\n",
    "    for y in range(0, len(strr)):\n",
    "        if x[y] != strr[y]:\n",
    "            break\n",
    "        if y == len(strr) - 1:\n",
    "            Oscar_pass.append(train.loc[train['Name'] == x, 'PassengerId'].index[0] + 1)"
   ]
  },
  {
   "cell_type": "code",
   "execution_count": 66,
   "id": "e9a1b759",
   "metadata": {},
   "outputs": [
    {
     "data": {
      "text/plain": [
       "[]"
      ]
     },
     "execution_count": 66,
     "metadata": {},
     "output_type": "execute_result"
    }
   ],
   "source": [
    "Vilhelm_pass"
   ]
  },
  {
   "cell_type": "code",
   "execution_count": 67,
   "id": "ee82efbb",
   "metadata": {},
   "outputs": [
    {
     "data": {
      "text/html": [
       "<div>\n",
       "<style scoped>\n",
       "    .dataframe tbody tr th:only-of-type {\n",
       "        vertical-align: middle;\n",
       "    }\n",
       "\n",
       "    .dataframe tbody tr th {\n",
       "        vertical-align: top;\n",
       "    }\n",
       "\n",
       "    .dataframe thead th {\n",
       "        text-align: right;\n",
       "    }\n",
       "</style>\n",
       "<table border=\"1\" class=\"dataframe\">\n",
       "  <thead>\n",
       "    <tr style=\"text-align: right;\">\n",
       "      <th></th>\n",
       "      <th>PassengerId</th>\n",
       "      <th>Survived</th>\n",
       "      <th>Pclass</th>\n",
       "      <th>Name</th>\n",
       "      <th>Sex</th>\n",
       "      <th>Age</th>\n",
       "      <th>SibSp</th>\n",
       "      <th>Parch</th>\n",
       "      <th>Ticket</th>\n",
       "      <th>Fare</th>\n",
       "      <th>Cabin</th>\n",
       "      <th>Embarked</th>\n",
       "    </tr>\n",
       "  </thead>\n",
       "  <tbody>\n",
       "    <tr>\n",
       "      <th>104</th>\n",
       "      <td>105</td>\n",
       "      <td>0</td>\n",
       "      <td>3</td>\n",
       "      <td>Gustafsson, Mr. Anders Vilhelm</td>\n",
       "      <td>male</td>\n",
       "      <td>37.0</td>\n",
       "      <td>2</td>\n",
       "      <td>0</td>\n",
       "      <td>3101276</td>\n",
       "      <td>7.9250</td>\n",
       "      <td>NaN</td>\n",
       "      <td>S</td>\n",
       "    </tr>\n",
       "    <tr>\n",
       "      <th>379</th>\n",
       "      <td>380</td>\n",
       "      <td>0</td>\n",
       "      <td>3</td>\n",
       "      <td>Gustafsson, Mr. Karl Gideon</td>\n",
       "      <td>male</td>\n",
       "      <td>19.0</td>\n",
       "      <td>0</td>\n",
       "      <td>0</td>\n",
       "      <td>347069</td>\n",
       "      <td>7.7750</td>\n",
       "      <td>NaN</td>\n",
       "      <td>S</td>\n",
       "    </tr>\n",
       "    <tr>\n",
       "      <th>392</th>\n",
       "      <td>393</td>\n",
       "      <td>0</td>\n",
       "      <td>3</td>\n",
       "      <td>Gustafsson, Mr. Johan Birger</td>\n",
       "      <td>male</td>\n",
       "      <td>28.0</td>\n",
       "      <td>2</td>\n",
       "      <td>0</td>\n",
       "      <td>3101277</td>\n",
       "      <td>7.9250</td>\n",
       "      <td>NaN</td>\n",
       "      <td>S</td>\n",
       "    </tr>\n",
       "    <tr>\n",
       "      <th>876</th>\n",
       "      <td>877</td>\n",
       "      <td>0</td>\n",
       "      <td>3</td>\n",
       "      <td>Gustafsson, Mr. Alfred Ossian</td>\n",
       "      <td>male</td>\n",
       "      <td>20.0</td>\n",
       "      <td>0</td>\n",
       "      <td>0</td>\n",
       "      <td>7534</td>\n",
       "      <td>9.8458</td>\n",
       "      <td>NaN</td>\n",
       "      <td>S</td>\n",
       "    </tr>\n",
       "  </tbody>\n",
       "</table>\n",
       "</div>"
      ],
      "text/plain": [
       "     PassengerId  Survived  Pclass                            Name   Sex  \\\n",
       "104          105         0       3  Gustafsson, Mr. Anders Vilhelm  male   \n",
       "379          380         0       3     Gustafsson, Mr. Karl Gideon  male   \n",
       "392          393         0       3    Gustafsson, Mr. Johan Birger  male   \n",
       "876          877         0       3   Gustafsson, Mr. Alfred Ossian  male   \n",
       "\n",
       "      Age  SibSp  Parch   Ticket    Fare Cabin Embarked  \n",
       "104  37.0      2      0  3101276  7.9250   NaN        S  \n",
       "379  19.0      0      0   347069  7.7750   NaN        S  \n",
       "392  28.0      2      0  3101277  7.9250   NaN        S  \n",
       "876  20.0      0      0     7534  9.8458   NaN        S  "
      ]
     },
     "execution_count": 67,
     "metadata": {},
     "output_type": "execute_result"
    }
   ],
   "source": [
    "Gustafsson_pass\n",
    "Gustafsson_filter = train['PassengerId'].isin(Gustafsson_pass)\n",
    "train.loc[Gustafsson_filter, :]"
   ]
  },
  {
   "cell_type": "code",
   "execution_count": 36,
   "id": "651b9885",
   "metadata": {},
   "outputs": [
    {
     "data": {
      "text/html": [
       "<div>\n",
       "<style scoped>\n",
       "    .dataframe tbody tr th:only-of-type {\n",
       "        vertical-align: middle;\n",
       "    }\n",
       "\n",
       "    .dataframe tbody tr th {\n",
       "        vertical-align: top;\n",
       "    }\n",
       "\n",
       "    .dataframe thead th {\n",
       "        text-align: right;\n",
       "    }\n",
       "</style>\n",
       "<table border=\"1\" class=\"dataframe\">\n",
       "  <thead>\n",
       "    <tr style=\"text-align: right;\">\n",
       "      <th></th>\n",
       "      <th>PassengerId</th>\n",
       "      <th>Survived</th>\n",
       "      <th>Pclass</th>\n",
       "      <th>Name</th>\n",
       "      <th>Sex</th>\n",
       "      <th>Age</th>\n",
       "      <th>SibSp</th>\n",
       "      <th>Parch</th>\n",
       "      <th>Ticket</th>\n",
       "      <th>Fare</th>\n",
       "      <th>Cabin</th>\n",
       "      <th>Embarked</th>\n",
       "    </tr>\n",
       "  </thead>\n",
       "  <tbody>\n",
       "  </tbody>\n",
       "</table>\n",
       "</div>"
      ],
      "text/plain": [
       "Empty DataFrame\n",
       "Columns: [PassengerId, Survived, Pclass, Name, Sex, Age, SibSp, Parch, Ticket, Fare, Cabin, Embarked]\n",
       "Index: []"
      ]
     },
     "execution_count": 36,
     "metadata": {},
     "output_type": "execute_result"
    }
   ],
   "source": [
    "Oscar_pass\n",
    "Oscar_filter = train['PassengerId'].isin(Oscar_pass)\n",
    "train.loc[Oscar_filter, :]"
   ]
  },
  {
   "cell_type": "code",
   "execution_count": 37,
   "id": "78fe8097",
   "metadata": {
    "scrolled": true
   },
   "outputs": [
    {
     "data": {
      "text/html": [
       "<div>\n",
       "<style scoped>\n",
       "    .dataframe tbody tr th:only-of-type {\n",
       "        vertical-align: middle;\n",
       "    }\n",
       "\n",
       "    .dataframe tbody tr th {\n",
       "        vertical-align: top;\n",
       "    }\n",
       "\n",
       "    .dataframe thead th {\n",
       "        text-align: right;\n",
       "    }\n",
       "</style>\n",
       "<table border=\"1\" class=\"dataframe\">\n",
       "  <thead>\n",
       "    <tr style=\"text-align: right;\">\n",
       "      <th></th>\n",
       "      <th>PassengerId</th>\n",
       "      <th>Survived</th>\n",
       "      <th>Pclass</th>\n",
       "      <th>Name</th>\n",
       "      <th>Sex</th>\n",
       "      <th>Age</th>\n",
       "      <th>SibSp</th>\n",
       "      <th>Parch</th>\n",
       "      <th>Ticket</th>\n",
       "      <th>Fare</th>\n",
       "      <th>Cabin</th>\n",
       "      <th>Embarked</th>\n",
       "    </tr>\n",
       "  </thead>\n",
       "  <tbody>\n",
       "    <tr>\n",
       "      <th>25</th>\n",
       "      <td>26</td>\n",
       "      <td>1</td>\n",
       "      <td>3</td>\n",
       "      <td>Asplund, Mrs. Carl Oscar (Selma Augusta Emilia...</td>\n",
       "      <td>female</td>\n",
       "      <td>38.0</td>\n",
       "      <td>1</td>\n",
       "      <td>5</td>\n",
       "      <td>347077</td>\n",
       "      <td>31.3875</td>\n",
       "      <td>NaN</td>\n",
       "      <td>S</td>\n",
       "    </tr>\n",
       "    <tr>\n",
       "      <th>182</th>\n",
       "      <td>183</td>\n",
       "      <td>0</td>\n",
       "      <td>3</td>\n",
       "      <td>Asplund, Master. Clarence Gustaf Hugo</td>\n",
       "      <td>male</td>\n",
       "      <td>9.0</td>\n",
       "      <td>4</td>\n",
       "      <td>2</td>\n",
       "      <td>347077</td>\n",
       "      <td>31.3875</td>\n",
       "      <td>NaN</td>\n",
       "      <td>S</td>\n",
       "    </tr>\n",
       "    <tr>\n",
       "      <th>233</th>\n",
       "      <td>234</td>\n",
       "      <td>1</td>\n",
       "      <td>3</td>\n",
       "      <td>Asplund, Miss. Lillian Gertrud</td>\n",
       "      <td>female</td>\n",
       "      <td>5.0</td>\n",
       "      <td>4</td>\n",
       "      <td>2</td>\n",
       "      <td>347077</td>\n",
       "      <td>31.3875</td>\n",
       "      <td>NaN</td>\n",
       "      <td>S</td>\n",
       "    </tr>\n",
       "    <tr>\n",
       "      <th>261</th>\n",
       "      <td>262</td>\n",
       "      <td>1</td>\n",
       "      <td>3</td>\n",
       "      <td>Asplund, Master. Edvin Rojj Felix</td>\n",
       "      <td>male</td>\n",
       "      <td>3.0</td>\n",
       "      <td>4</td>\n",
       "      <td>2</td>\n",
       "      <td>347077</td>\n",
       "      <td>31.3875</td>\n",
       "      <td>NaN</td>\n",
       "      <td>S</td>\n",
       "    </tr>\n",
       "  </tbody>\n",
       "</table>\n",
       "</div>"
      ],
      "text/plain": [
       "     PassengerId  Survived  Pclass  \\\n",
       "25            26         1       3   \n",
       "182          183         0       3   \n",
       "233          234         1       3   \n",
       "261          262         1       3   \n",
       "\n",
       "                                                  Name     Sex   Age  SibSp  \\\n",
       "25   Asplund, Mrs. Carl Oscar (Selma Augusta Emilia...  female  38.0      1   \n",
       "182              Asplund, Master. Clarence Gustaf Hugo    male   9.0      4   \n",
       "233                     Asplund, Miss. Lillian Gertrud  female   5.0      4   \n",
       "261                  Asplund, Master. Edvin Rojj Felix    male   3.0      4   \n",
       "\n",
       "     Parch  Ticket     Fare Cabin Embarked  \n",
       "25       5  347077  31.3875   NaN        S  \n",
       "182      2  347077  31.3875   NaN        S  \n",
       "233      2  347077  31.3875   NaN        S  \n",
       "261      2  347077  31.3875   NaN        S  "
      ]
     },
     "execution_count": 37,
     "metadata": {},
     "output_type": "execute_result"
    }
   ],
   "source": [
    "train.loc[train['Ticket'] == Asplund_family.iloc[0]['Ticket'], :]"
   ]
  },
  {
   "cell_type": "markdown",
   "id": "4ed450d8",
   "metadata": {},
   "source": [
    "We conclude, then, that Mr. Asplund is not present in the dataset, yet he appears implicitly through both the `SibSp` and `Parch` columns. This must also be the case for other passengers, since 2240 people were aboard the Titanic, yet our dataset contains only 891 entries.\n",
    "\n",
    "From a Google search, we found that he died in the Titanic disaster, which is consistent with the hypothesis that having a child increases the surivability of the female parent. We shall pry into this matter further in the bivariate analysis.\n",
    "\n",
    "Furthermore, it might be interesting to distinguish parents from children. That is, count the number of families (people with the same last names) and break them into categories of parents and children. The reason that this separation might be possible is due to the clear age gaps we expect to find between the parents and children. For example, we could calculate 'Age - 18' of people with 'Parch >= 1', grouped by surname. The passengers whose 'Age - 18' are larger or equal to the at least one of the smaller ages in the family would indicate a parent. For example:\n",
    "\n",
    "`Smith_Family_Name` = [John, Mary, Zach, Amy]\n",
    "`Smith_Family_Age` = [48 , 35, 10, 12]\n",
    "\n",
    "`Smith_Family_Age - 18` = [30 , 17, -8, -6]\n",
    "\n",
    "Since 30 and 17 are both larger or equal to 10 and 12 (Zach and Amy's ages), these are the parents. The question is whether all children within our dataset has at least one parent present in the dataset. It might be that, just as Selma Asplund's husband is missing from the dataset, we could find a group of siblings without a parent. Treating this case through the same example, we'd find:\n",
    "\n",
    "`Smith_Family_Name` = [Zach, Amy]\n",
    "`Smith_Family_Age` = [10, 12]\n",
    "\n",
    "`Smith_Family_Age - 18` = [-8, -6]\n",
    "\n",
    "Since -6 is not larger or equal to 10, then we find no parents. One drawback might be when we have a family sibling as well. In this case, we might erroneously identify 3 parents instead of 2. We shall return to this idea in the bivariate analysis. "
   ]
  },
  {
   "cell_type": "markdown",
   "id": "ff0e18bc",
   "metadata": {},
   "source": [
    "### Fare"
   ]
  },
  {
   "cell_type": "markdown",
   "id": "68394208",
   "metadata": {},
   "source": [
    "Along the lines of the analysis of the Ticket Class (`Pclass` column), we expect higher fares to be related to more favorable condiitons in times of disaster aboard the ship. We'd also expect these two variables to share a certain degree of correlation with each other, since higher class tickets are most certainly pricier than lower class tickets.\n",
    "\n",
    "Let us begin by identifying standard ticket values."
   ]
  },
  {
   "cell_type": "code",
   "execution_count": 38,
   "id": "ccbb0b25",
   "metadata": {},
   "outputs": [
    {
     "data": {
      "text/plain": [
       "8.0500     43\n",
       "13.0000    42\n",
       "7.8958     38\n",
       "7.7500     34\n",
       "26.0000    31\n",
       "           ..\n",
       "35.0000     1\n",
       "28.5000     1\n",
       "6.2375      1\n",
       "14.0000     1\n",
       "10.5167     1\n",
       "Name: Fare, Length: 248, dtype: int64"
      ]
     },
     "execution_count": 38,
     "metadata": {},
     "output_type": "execute_result"
    }
   ],
   "source": [
    "train['Fare'].value_counts()"
   ]
  },
  {
   "cell_type": "markdown",
   "id": "ca67fafa",
   "metadata": {},
   "source": [
    "248 ticket fares distributed among 891 people. This means many of the tickets had a standard value. However, given that the variation of this quantity is continuous (floating values) it will be more interesting to generate a statistical description of the fares."
   ]
  },
  {
   "cell_type": "code",
   "execution_count": 70,
   "id": "c1d812e3",
   "metadata": {},
   "outputs": [
    {
     "data": {
      "text/plain": [
       "count    891.000000\n",
       "mean      32.204208\n",
       "std       49.693429\n",
       "min        0.000000\n",
       "25%        7.910400\n",
       "50%       14.454200\n",
       "75%       31.000000\n",
       "max      512.329200\n",
       "Name: Fare, dtype: float64"
      ]
     },
     "execution_count": 70,
     "metadata": {},
     "output_type": "execute_result"
    }
   ],
   "source": [
    "train['Fare'].describe()"
   ]
  },
  {
   "cell_type": "markdown",
   "id": "0ca2f62a",
   "metadata": {},
   "source": [
    "The tickets vary from \\\\$0.00 to \\\\$512.33, with a mean of \\\\$(32.20 +/- 24.85). Based on these values, let us separate the fares into bins of \\\\$0 to \\\\$7.35(=32.20 - 24.85), \\\\$7.35 to \\\\$32.20, \\\\$32.20 to \\\\$57.05(=32.20 + 24.85) and \\\\$57.05 to \\\\$512.00."
   ]
  },
  {
   "cell_type": "code",
   "execution_count": 75,
   "id": "b4781952",
   "metadata": {},
   "outputs": [],
   "source": [
    "train_mean = train['Fare'].mean()\n",
    "train_std = train['Fare'].std()\n",
    "\n",
    "ticket_pass = pd.cut(train['Fare'], bins = [0, train_mean - train_std / 2, train_mean, train_mean + train_std / 2, max(train['Fare']) + 0.001], include_lowest = True)\n",
    "ticket_pass = ticket_pass.value_counts()\n",
    "\n",
    "s_ticket_pass = pd.cut(train.loc[surv, 'Fare'], bins = [0, train_mean - train_std / 2, train_mean, train_mean + train_std / 2, max(train['Fare']) + 0.001], include_lowest = True)\n",
    "s_ticket_pass = s_ticket_pass.value_counts()\n",
    "\n",
    "perc_s_ticket = s_ticket_pass / ticket_pass * 100"
   ]
  },
  {
   "cell_type": "code",
   "execution_count": 79,
   "id": "4da47607",
   "metadata": {},
   "outputs": [
    {
     "name": "stdout",
     "output_type": "stream",
     "text": [
      "Survival rate of passengers with ticket fares in the interval (-0.001, 7.357] : 13.095238095238097\n",
      "Survival rate of passengers with ticket fares in the interval (7.357, 32.204] : 34.395973154362416\n",
      "Survival rate of passengers with ticket fares in the interval (32.204, 57.051] : 47.674418604651166\n",
      "Survival rate of passengers with ticket fares in the interval (57.051, 512.33] : 68.0\n"
     ]
    }
   ],
   "source": [
    "perc_s_ticket = perc_s_ticket.sort_values()\n",
    "for x in range(0, len(perc_s_ticket)):\n",
    "    print('Survival rate of passengers with ticket fares in the interval', perc_s_ticket.index[x], ':', perc_s_ticket.iloc[x])"
   ]
  },
  {
   "cell_type": "code",
   "execution_count": 80,
   "id": "8f278a28",
   "metadata": {
    "scrolled": false
   },
   "outputs": [
    {
     "data": {
      "image/png": "[encoded data removed]",
      "text/plain": [
       "<Figure size 1008x432 with 1 Axes>"
      ]
     },
     "metadata": {
      "needs_background": "light"
     },
     "output_type": "display_data"
    }
   ],
   "source": [
    "ax = perc_s_ticket.plot.bar(rot = 0, color = 'blue', figsize = (14,6))\n",
    "plt.ylabel(\"Survival Rate\")\n",
    "plt.xlabel(\"Fare interval in $\")\n",
    "plt.show()\n"
   ]
  },
  {
   "cell_type": "code",
   "execution_count": 83,
   "id": "93f1c3d7",
   "metadata": {
    "scrolled": true
   },
   "outputs": [
    {
     "data": {
      "text/plain": [
       "(-0.001, 7.357]      84\n",
       "(7.357, 32.204]     596\n",
       "(32.204, 57.051]     86\n",
       "(57.051, 512.33]    125\n",
       "Name: Fare, dtype: int64"
      ]
     },
     "execution_count": 83,
     "metadata": {},
     "output_type": "execute_result"
    }
   ],
   "source": [
    "ticket_pass = ticket_pass.sort_index()\n",
    "ticket_pass"
   ]
  },
  {
   "cell_type": "markdown",
   "id": "38dc7f2c",
   "metadata": {},
   "source": [
    "There is irrefutable evidence that the ticket fare influences the survival chances aboard the Titanic. From as low as <b>13.1%</b> to as high as <b>68.0%</b>."
   ]
  },
  {
   "cell_type": "markdown",
   "id": "c96f0156",
   "metadata": {},
   "source": [
    "#### Free ticket passengers"
   ]
  },
  {
   "cell_type": "markdown",
   "id": "458f72e8",
   "metadata": {},
   "source": [
    "This part of the analysis is dedicated to a group of people with a peculiar characteristic: \\\\$0.00 ticket fares. The reason this group of people might be interesting to investigate is that free ticket passengers are, possibly, people involved with the ship crew, people who helped design the Titanic, etc. In other words, people with a strong attachment and/or duty to the Titanic. \n",
    "\n",
    "How this would affect the survival rate of said passengers is something we shall investigate in the following analysis."
   ]
  },
  {
   "cell_type": "code",
   "execution_count": 44,
   "id": "c159c885",
   "metadata": {},
   "outputs": [
    {
     "data": {
      "text/plain": [
       "Pclass  Fare\n",
       "1       0.0     5\n",
       "2       0.0     6\n",
       "3       0.0     4\n",
       "dtype: int64"
      ]
     },
     "execution_count": 44,
     "metadata": {},
     "output_type": "execute_result"
    }
   ],
   "source": [
    "train.loc[train.Fare == 0.0, ['Pclass', 'Fare']].groupby('Pclass').value_counts()"
   ]
  },
  {
   "cell_type": "markdown",
   "id": "6acb6d32",
   "metadata": {},
   "source": [
    "We have 15 passengers that did not pay fairs. Furthermore, they weren't all low class workers. A third of the group is composed of high status people."
   ]
  },
  {
   "cell_type": "code",
   "execution_count": 45,
   "id": "942d2aae",
   "metadata": {},
   "outputs": [
    {
     "data": {
      "text/html": [
       "<div>\n",
       "<style scoped>\n",
       "    .dataframe tbody tr th:only-of-type {\n",
       "        vertical-align: middle;\n",
       "    }\n",
       "\n",
       "    .dataframe tbody tr th {\n",
       "        vertical-align: top;\n",
       "    }\n",
       "\n",
       "    .dataframe thead th {\n",
       "        text-align: right;\n",
       "    }\n",
       "</style>\n",
       "<table border=\"1\" class=\"dataframe\">\n",
       "  <thead>\n",
       "    <tr style=\"text-align: right;\">\n",
       "      <th></th>\n",
       "      <th>PassengerId</th>\n",
       "      <th>Survived</th>\n",
       "      <th>Pclass</th>\n",
       "      <th>Name</th>\n",
       "      <th>Sex</th>\n",
       "      <th>Age</th>\n",
       "      <th>SibSp</th>\n",
       "      <th>Parch</th>\n",
       "      <th>Ticket</th>\n",
       "      <th>Fare</th>\n",
       "      <th>Cabin</th>\n",
       "      <th>Embarked</th>\n",
       "    </tr>\n",
       "  </thead>\n",
       "  <tbody>\n",
       "    <tr>\n",
       "      <th>179</th>\n",
       "      <td>180</td>\n",
       "      <td>0</td>\n",
       "      <td>3</td>\n",
       "      <td>Leonard, Mr. Lionel</td>\n",
       "      <td>male</td>\n",
       "      <td>36.0</td>\n",
       "      <td>0</td>\n",
       "      <td>0</td>\n",
       "      <td>LINE</td>\n",
       "      <td>0.0</td>\n",
       "      <td>NaN</td>\n",
       "      <td>S</td>\n",
       "    </tr>\n",
       "    <tr>\n",
       "      <th>263</th>\n",
       "      <td>264</td>\n",
       "      <td>0</td>\n",
       "      <td>1</td>\n",
       "      <td>Harrison, Mr. William</td>\n",
       "      <td>male</td>\n",
       "      <td>40.0</td>\n",
       "      <td>0</td>\n",
       "      <td>0</td>\n",
       "      <td>112059</td>\n",
       "      <td>0.0</td>\n",
       "      <td>B94</td>\n",
       "      <td>S</td>\n",
       "    </tr>\n",
       "    <tr>\n",
       "      <th>271</th>\n",
       "      <td>272</td>\n",
       "      <td>1</td>\n",
       "      <td>3</td>\n",
       "      <td>Tornquist, Mr. William Henry</td>\n",
       "      <td>male</td>\n",
       "      <td>25.0</td>\n",
       "      <td>0</td>\n",
       "      <td>0</td>\n",
       "      <td>LINE</td>\n",
       "      <td>0.0</td>\n",
       "      <td>NaN</td>\n",
       "      <td>S</td>\n",
       "    </tr>\n",
       "    <tr>\n",
       "      <th>277</th>\n",
       "      <td>278</td>\n",
       "      <td>0</td>\n",
       "      <td>2</td>\n",
       "      <td>Parkes, Mr. Francis \"Frank\"</td>\n",
       "      <td>male</td>\n",
       "      <td>NaN</td>\n",
       "      <td>0</td>\n",
       "      <td>0</td>\n",
       "      <td>239853</td>\n",
       "      <td>0.0</td>\n",
       "      <td>NaN</td>\n",
       "      <td>S</td>\n",
       "    </tr>\n",
       "    <tr>\n",
       "      <th>302</th>\n",
       "      <td>303</td>\n",
       "      <td>0</td>\n",
       "      <td>3</td>\n",
       "      <td>Johnson, Mr. William Cahoone Jr</td>\n",
       "      <td>male</td>\n",
       "      <td>19.0</td>\n",
       "      <td>0</td>\n",
       "      <td>0</td>\n",
       "      <td>LINE</td>\n",
       "      <td>0.0</td>\n",
       "      <td>NaN</td>\n",
       "      <td>S</td>\n",
       "    </tr>\n",
       "    <tr>\n",
       "      <th>413</th>\n",
       "      <td>414</td>\n",
       "      <td>0</td>\n",
       "      <td>2</td>\n",
       "      <td>Cunningham, Mr. Alfred Fleming</td>\n",
       "      <td>male</td>\n",
       "      <td>NaN</td>\n",
       "      <td>0</td>\n",
       "      <td>0</td>\n",
       "      <td>239853</td>\n",
       "      <td>0.0</td>\n",
       "      <td>NaN</td>\n",
       "      <td>S</td>\n",
       "    </tr>\n",
       "    <tr>\n",
       "      <th>466</th>\n",
       "      <td>467</td>\n",
       "      <td>0</td>\n",
       "      <td>2</td>\n",
       "      <td>Campbell, Mr. William</td>\n",
       "      <td>male</td>\n",
       "      <td>NaN</td>\n",
       "      <td>0</td>\n",
       "      <td>0</td>\n",
       "      <td>239853</td>\n",
       "      <td>0.0</td>\n",
       "      <td>NaN</td>\n",
       "      <td>S</td>\n",
       "    </tr>\n",
       "    <tr>\n",
       "      <th>481</th>\n",
       "      <td>482</td>\n",
       "      <td>0</td>\n",
       "      <td>2</td>\n",
       "      <td>Frost, Mr. Anthony Wood \"Archie\"</td>\n",
       "      <td>male</td>\n",
       "      <td>NaN</td>\n",
       "      <td>0</td>\n",
       "      <td>0</td>\n",
       "      <td>239854</td>\n",
       "      <td>0.0</td>\n",
       "      <td>NaN</td>\n",
       "      <td>S</td>\n",
       "    </tr>\n",
       "    <tr>\n",
       "      <th>597</th>\n",
       "      <td>598</td>\n",
       "      <td>0</td>\n",
       "      <td>3</td>\n",
       "      <td>Johnson, Mr. Alfred</td>\n",
       "      <td>male</td>\n",
       "      <td>49.0</td>\n",
       "      <td>0</td>\n",
       "      <td>0</td>\n",
       "      <td>LINE</td>\n",
       "      <td>0.0</td>\n",
       "      <td>NaN</td>\n",
       "      <td>S</td>\n",
       "    </tr>\n",
       "    <tr>\n",
       "      <th>633</th>\n",
       "      <td>634</td>\n",
       "      <td>0</td>\n",
       "      <td>1</td>\n",
       "      <td>Parr, Mr. William Henry Marsh</td>\n",
       "      <td>male</td>\n",
       "      <td>NaN</td>\n",
       "      <td>0</td>\n",
       "      <td>0</td>\n",
       "      <td>112052</td>\n",
       "      <td>0.0</td>\n",
       "      <td>NaN</td>\n",
       "      <td>S</td>\n",
       "    </tr>\n",
       "    <tr>\n",
       "      <th>674</th>\n",
       "      <td>675</td>\n",
       "      <td>0</td>\n",
       "      <td>2</td>\n",
       "      <td>Watson, Mr. Ennis Hastings</td>\n",
       "      <td>male</td>\n",
       "      <td>NaN</td>\n",
       "      <td>0</td>\n",
       "      <td>0</td>\n",
       "      <td>239856</td>\n",
       "      <td>0.0</td>\n",
       "      <td>NaN</td>\n",
       "      <td>S</td>\n",
       "    </tr>\n",
       "    <tr>\n",
       "      <th>732</th>\n",
       "      <td>733</td>\n",
       "      <td>0</td>\n",
       "      <td>2</td>\n",
       "      <td>Knight, Mr. Robert J</td>\n",
       "      <td>male</td>\n",
       "      <td>NaN</td>\n",
       "      <td>0</td>\n",
       "      <td>0</td>\n",
       "      <td>239855</td>\n",
       "      <td>0.0</td>\n",
       "      <td>NaN</td>\n",
       "      <td>S</td>\n",
       "    </tr>\n",
       "    <tr>\n",
       "      <th>806</th>\n",
       "      <td>807</td>\n",
       "      <td>0</td>\n",
       "      <td>1</td>\n",
       "      <td>Andrews, Mr. Thomas Jr</td>\n",
       "      <td>male</td>\n",
       "      <td>39.0</td>\n",
       "      <td>0</td>\n",
       "      <td>0</td>\n",
       "      <td>112050</td>\n",
       "      <td>0.0</td>\n",
       "      <td>A36</td>\n",
       "      <td>S</td>\n",
       "    </tr>\n",
       "    <tr>\n",
       "      <th>815</th>\n",
       "      <td>816</td>\n",
       "      <td>0</td>\n",
       "      <td>1</td>\n",
       "      <td>Fry, Mr. Richard</td>\n",
       "      <td>male</td>\n",
       "      <td>NaN</td>\n",
       "      <td>0</td>\n",
       "      <td>0</td>\n",
       "      <td>112058</td>\n",
       "      <td>0.0</td>\n",
       "      <td>B102</td>\n",
       "      <td>S</td>\n",
       "    </tr>\n",
       "    <tr>\n",
       "      <th>822</th>\n",
       "      <td>823</td>\n",
       "      <td>0</td>\n",
       "      <td>1</td>\n",
       "      <td>Reuchlin, Jonkheer. John George</td>\n",
       "      <td>male</td>\n",
       "      <td>38.0</td>\n",
       "      <td>0</td>\n",
       "      <td>0</td>\n",
       "      <td>19972</td>\n",
       "      <td>0.0</td>\n",
       "      <td>NaN</td>\n",
       "      <td>S</td>\n",
       "    </tr>\n",
       "  </tbody>\n",
       "</table>\n",
       "</div>"
      ],
      "text/plain": [
       "     PassengerId  Survived  Pclass                              Name   Sex  \\\n",
       "179          180         0       3               Leonard, Mr. Lionel  male   \n",
       "263          264         0       1             Harrison, Mr. William  male   \n",
       "271          272         1       3      Tornquist, Mr. William Henry  male   \n",
       "277          278         0       2       Parkes, Mr. Francis \"Frank\"  male   \n",
       "302          303         0       3   Johnson, Mr. William Cahoone Jr  male   \n",
       "413          414         0       2    Cunningham, Mr. Alfred Fleming  male   \n",
       "466          467         0       2             Campbell, Mr. William  male   \n",
       "481          482         0       2  Frost, Mr. Anthony Wood \"Archie\"  male   \n",
       "597          598         0       3               Johnson, Mr. Alfred  male   \n",
       "633          634         0       1     Parr, Mr. William Henry Marsh  male   \n",
       "674          675         0       2        Watson, Mr. Ennis Hastings  male   \n",
       "732          733         0       2              Knight, Mr. Robert J  male   \n",
       "806          807         0       1            Andrews, Mr. Thomas Jr  male   \n",
       "815          816         0       1                  Fry, Mr. Richard  male   \n",
       "822          823         0       1   Reuchlin, Jonkheer. John George  male   \n",
       "\n",
       "      Age  SibSp  Parch  Ticket  Fare Cabin Embarked  \n",
       "179  36.0      0      0    LINE   0.0   NaN        S  \n",
       "263  40.0      0      0  112059   0.0   B94        S  \n",
       "271  25.0      0      0    LINE   0.0   NaN        S  \n",
       "277   NaN      0      0  239853   0.0   NaN        S  \n",
       "302  19.0      0      0    LINE   0.0   NaN        S  \n",
       "413   NaN      0      0  239853   0.0   NaN        S  \n",
       "466   NaN      0      0  239853   0.0   NaN        S  \n",
       "481   NaN      0      0  239854   0.0   NaN        S  \n",
       "597  49.0      0      0    LINE   0.0   NaN        S  \n",
       "633   NaN      0      0  112052   0.0   NaN        S  \n",
       "674   NaN      0      0  239856   0.0   NaN        S  \n",
       "732   NaN      0      0  239855   0.0   NaN        S  \n",
       "806  39.0      0      0  112050   0.0   A36        S  \n",
       "815   NaN      0      0  112058   0.0  B102        S  \n",
       "822  38.0      0      0   19972   0.0   NaN        S  "
      ]
     },
     "execution_count": 45,
     "metadata": {},
     "output_type": "execute_result"
    }
   ],
   "source": [
    "train.loc[train.Fare == 0.0,:]"
   ]
  },
  {
   "cell_type": "markdown",
   "id": "917f8ccd",
   "metadata": {},
   "source": [
    "We further note that all these passengers are male and all of them embarked in Southampton. Upon research in Google, we find some additional pieces of information. First, the reason some of these have 'LINE' tickets is due to their affiliation with a New York ship company, the 'American Line'. This was confirmed by searching, in Google, the name of the one survivor among these passengers - Mr. William Henry Tornquist -, who was employed to the American Line.\n",
    "\n",
    "In other words, the employees of the American Line were supposed to return to New York in another vessel, but due to a coal strike in Britain, they were awarded free 3rd class tickets to the Titanic."
   ]
  },
  {
   "cell_type": "code",
   "execution_count": 46,
   "id": "680109dd",
   "metadata": {},
   "outputs": [
    {
     "data": {
      "text/html": [
       "<div>\n",
       "<style scoped>\n",
       "    .dataframe tbody tr th:only-of-type {\n",
       "        vertical-align: middle;\n",
       "    }\n",
       "\n",
       "    .dataframe tbody tr th {\n",
       "        vertical-align: top;\n",
       "    }\n",
       "\n",
       "    .dataframe thead th {\n",
       "        text-align: right;\n",
       "    }\n",
       "</style>\n",
       "<table border=\"1\" class=\"dataframe\">\n",
       "  <thead>\n",
       "    <tr style=\"text-align: right;\">\n",
       "      <th></th>\n",
       "      <th>PassengerId</th>\n",
       "      <th>Survived</th>\n",
       "      <th>Pclass</th>\n",
       "      <th>Name</th>\n",
       "      <th>Sex</th>\n",
       "      <th>Age</th>\n",
       "      <th>SibSp</th>\n",
       "      <th>Parch</th>\n",
       "      <th>Ticket</th>\n",
       "      <th>Fare</th>\n",
       "      <th>Cabin</th>\n",
       "      <th>Embarked</th>\n",
       "    </tr>\n",
       "  </thead>\n",
       "  <tbody>\n",
       "    <tr>\n",
       "      <th>179</th>\n",
       "      <td>180</td>\n",
       "      <td>0</td>\n",
       "      <td>3</td>\n",
       "      <td>Leonard, Mr. Lionel</td>\n",
       "      <td>male</td>\n",
       "      <td>36.0</td>\n",
       "      <td>0</td>\n",
       "      <td>0</td>\n",
       "      <td>LINE</td>\n",
       "      <td>0.0</td>\n",
       "      <td>NaN</td>\n",
       "      <td>S</td>\n",
       "    </tr>\n",
       "    <tr>\n",
       "      <th>271</th>\n",
       "      <td>272</td>\n",
       "      <td>1</td>\n",
       "      <td>3</td>\n",
       "      <td>Tornquist, Mr. William Henry</td>\n",
       "      <td>male</td>\n",
       "      <td>25.0</td>\n",
       "      <td>0</td>\n",
       "      <td>0</td>\n",
       "      <td>LINE</td>\n",
       "      <td>0.0</td>\n",
       "      <td>NaN</td>\n",
       "      <td>S</td>\n",
       "    </tr>\n",
       "    <tr>\n",
       "      <th>302</th>\n",
       "      <td>303</td>\n",
       "      <td>0</td>\n",
       "      <td>3</td>\n",
       "      <td>Johnson, Mr. William Cahoone Jr</td>\n",
       "      <td>male</td>\n",
       "      <td>19.0</td>\n",
       "      <td>0</td>\n",
       "      <td>0</td>\n",
       "      <td>LINE</td>\n",
       "      <td>0.0</td>\n",
       "      <td>NaN</td>\n",
       "      <td>S</td>\n",
       "    </tr>\n",
       "    <tr>\n",
       "      <th>597</th>\n",
       "      <td>598</td>\n",
       "      <td>0</td>\n",
       "      <td>3</td>\n",
       "      <td>Johnson, Mr. Alfred</td>\n",
       "      <td>male</td>\n",
       "      <td>49.0</td>\n",
       "      <td>0</td>\n",
       "      <td>0</td>\n",
       "      <td>LINE</td>\n",
       "      <td>0.0</td>\n",
       "      <td>NaN</td>\n",
       "      <td>S</td>\n",
       "    </tr>\n",
       "  </tbody>\n",
       "</table>\n",
       "</div>"
      ],
      "text/plain": [
       "     PassengerId  Survived  Pclass                             Name   Sex  \\\n",
       "179          180         0       3              Leonard, Mr. Lionel  male   \n",
       "271          272         1       3     Tornquist, Mr. William Henry  male   \n",
       "302          303         0       3  Johnson, Mr. William Cahoone Jr  male   \n",
       "597          598         0       3              Johnson, Mr. Alfred  male   \n",
       "\n",
       "      Age  SibSp  Parch Ticket  Fare Cabin Embarked  \n",
       "179  36.0      0      0   LINE   0.0   NaN        S  \n",
       "271  25.0      0      0   LINE   0.0   NaN        S  \n",
       "302  19.0      0      0   LINE   0.0   NaN        S  \n",
       "597  49.0      0      0   LINE   0.0   NaN        S  "
      ]
     },
     "execution_count": 46,
     "metadata": {},
     "output_type": "execute_result"
    }
   ],
   "source": [
    "train.loc[(train.Fare == 0.0) & (train.Ticket == 'LINE'),:]"
   ]
  },
  {
   "cell_type": "code",
   "execution_count": 47,
   "id": "783c81b1",
   "metadata": {},
   "outputs": [
    {
     "data": {
      "text/plain": [
       "0    0.933333\n",
       "1    0.066667\n",
       "Name: Survived, dtype: float64"
      ]
     },
     "execution_count": 47,
     "metadata": {},
     "output_type": "execute_result"
    }
   ],
   "source": [
    "train.loc[train.Fare == 0.0, 'Survived'].value_counts() / train.loc[train.Fare == 0.0, 'Survived'].shape[0]"
   ]
  },
  {
   "cell_type": "markdown",
   "id": "0688f62d",
   "metadata": {},
   "source": [
    "By researching one of the random passengers among these with free tickets, Mr. Alfred Flemming Cunningham, it was discovered that Alfred was one of the nine-strong \"guarantee group\" of Harland and Wolff employees chosen to oversee the smooth running of the Titanic's maiden voyage.\n",
    "\n",
    "The low survival rate for members of this group (<b>6.7%</b>) compared to the average male survival rate (<b>18.9%</b>) might be indicative of either a coincidence or a contractual obligation of these people to remain upon the vessel in case of emergency. Since nobody actually believed the Titanic would sink given its architectural marvel, it is not too much of a stretch to believe that passengers - even those of high status - would accept such unfortunate terms of travel. \n",
    "\n",
    "Of course, this behavior might also be due to coincidence, since our sample consists of only 15 people. However, it is still interesting to note that the one survivor among this group had a third class ticket, even though the majority of the group were of higher class."
   ]
  },
  {
   "cell_type": "markdown",
   "id": "0527c87a",
   "metadata": {},
   "source": [
    "### Embarked"
   ]
  },
  {
   "cell_type": "markdown",
   "id": "c5c8750e",
   "metadata": {},
   "source": [
    "While the idea that certain ports increase/decrease the survival rate might be at first-hand nonsensical, the idea that first occupants are more/less favored than the final occupants is not. That is, since we have a lot of missing information related to the cabin occupation, the order of boarding might be indicative of who gets out first/last in case of disaster.\n",
    "\n",
    "The logic behind this is similar to the boarding/exiting process that exists on some planes. The first to leave are those in the premium class, then people are asked to leave in groups of rows. The cabins were possibly used to organize the evacuation of the Titanic and so, assuming there is a correlation between the cabin occupation and the ports where the boarding occurs, we might find a hidden pattern in the study of the `Embarked` column.\n",
    "\n",
    "The order in which the passengers embarked the titanic was first Southampton, then Cherbourg and lastly Queenstown."
   ]
  },
  {
   "cell_type": "code",
   "execution_count": 48,
   "id": "7953b302",
   "metadata": {},
   "outputs": [],
   "source": [
    "port_pass = train.loc[:, 'Embarked'].value_counts()\n",
    "s_port_pass = train.loc[train['Survived'] == 1, 'Embarked'].value_counts()\n",
    "\n",
    "perc_s_port = s_port_pass / port_pass * 100"
   ]
  },
  {
   "cell_type": "code",
   "execution_count": 49,
   "id": "5cc3ff87",
   "metadata": {},
   "outputs": [
    {
     "data": {
      "image/png": "[encoded data removed]",
      "text/plain": [
       "<Figure size 1008x432 with 1 Axes>"
      ]
     },
     "metadata": {
      "needs_background": "light"
     },
     "output_type": "display_data"
    }
   ],
   "source": [
    "x = ['Southampton', 'Cherbourg', 'Queenstown']\n",
    "plt.figure(figsize = (14,6))\n",
    "plt.bar(x, perc_s_port, color = 'blue')\n",
    "plt.ylabel(\"Survival Rate\")\n",
    "plt.xlabel(\"Port\")\n",
    "plt.show()"
   ]
  },
  {
   "cell_type": "code",
   "execution_count": 50,
   "id": "72d750ba",
   "metadata": {},
   "outputs": [
    {
     "data": {
      "text/plain": [
       "S    33.695652\n",
       "C    55.357143\n",
       "Q    38.961039\n",
       "Name: Embarked, dtype: float64"
      ]
     },
     "execution_count": 50,
     "metadata": {},
     "output_type": "execute_result"
    }
   ],
   "source": [
    "perc_s_port"
   ]
  },
  {
   "cell_type": "markdown",
   "id": "3d88fe7c",
   "metadata": {},
   "source": [
    "Apparently, the people that embarked in Cherbourg have almost 20% increased survival rate. To be fair, this might actually be caused by a correlation between port and fare price, which itself is an indicator of increased survival rate."
   ]
  },
  {
   "cell_type": "code",
   "execution_count": 51,
   "id": "70b05ea9",
   "metadata": {
    "scrolled": true
   },
   "outputs": [
    {
     "data": {
      "text/html": [
       "<div>\n",
       "<style scoped>\n",
       "    .dataframe tbody tr th:only-of-type {\n",
       "        vertical-align: middle;\n",
       "    }\n",
       "\n",
       "    .dataframe tbody tr th {\n",
       "        vertical-align: top;\n",
       "    }\n",
       "\n",
       "    .dataframe thead tr th {\n",
       "        text-align: left;\n",
       "    }\n",
       "\n",
       "    .dataframe thead tr:last-of-type th {\n",
       "        text-align: right;\n",
       "    }\n",
       "</style>\n",
       "<table border=\"1\" class=\"dataframe\">\n",
       "  <thead>\n",
       "    <tr>\n",
       "      <th></th>\n",
       "      <th colspan=\"8\" halign=\"left\">Fare</th>\n",
       "    </tr>\n",
       "    <tr>\n",
       "      <th></th>\n",
       "      <th>count</th>\n",
       "      <th>mean</th>\n",
       "      <th>std</th>\n",
       "      <th>min</th>\n",
       "      <th>25%</th>\n",
       "      <th>50%</th>\n",
       "      <th>75%</th>\n",
       "      <th>max</th>\n",
       "    </tr>\n",
       "    <tr>\n",
       "      <th>Embarked</th>\n",
       "      <th></th>\n",
       "      <th></th>\n",
       "      <th></th>\n",
       "      <th></th>\n",
       "      <th></th>\n",
       "      <th></th>\n",
       "      <th></th>\n",
       "      <th></th>\n",
       "    </tr>\n",
       "  </thead>\n",
       "  <tbody>\n",
       "    <tr>\n",
       "      <th>C</th>\n",
       "      <td>168.0</td>\n",
       "      <td>59.954144</td>\n",
       "      <td>83.912994</td>\n",
       "      <td>4.0125</td>\n",
       "      <td>13.69795</td>\n",
       "      <td>29.70</td>\n",
       "      <td>78.500025</td>\n",
       "      <td>512.3292</td>\n",
       "    </tr>\n",
       "    <tr>\n",
       "      <th>Q</th>\n",
       "      <td>77.0</td>\n",
       "      <td>13.276030</td>\n",
       "      <td>14.188047</td>\n",
       "      <td>6.7500</td>\n",
       "      <td>7.75000</td>\n",
       "      <td>7.75</td>\n",
       "      <td>15.500000</td>\n",
       "      <td>90.0000</td>\n",
       "    </tr>\n",
       "    <tr>\n",
       "      <th>S</th>\n",
       "      <td>644.0</td>\n",
       "      <td>27.079812</td>\n",
       "      <td>35.887993</td>\n",
       "      <td>0.0000</td>\n",
       "      <td>8.05000</td>\n",
       "      <td>13.00</td>\n",
       "      <td>27.900000</td>\n",
       "      <td>263.0000</td>\n",
       "    </tr>\n",
       "  </tbody>\n",
       "</table>\n",
       "</div>"
      ],
      "text/plain": [
       "           Fare                                                            \\\n",
       "          count       mean        std     min       25%    50%        75%   \n",
       "Embarked                                                                    \n",
       "C         168.0  59.954144  83.912994  4.0125  13.69795  29.70  78.500025   \n",
       "Q          77.0  13.276030  14.188047  6.7500   7.75000   7.75  15.500000   \n",
       "S         644.0  27.079812  35.887993  0.0000   8.05000  13.00  27.900000   \n",
       "\n",
       "                    \n",
       "               max  \n",
       "Embarked            \n",
       "C         512.3292  \n",
       "Q          90.0000  \n",
       "S         263.0000  "
      ]
     },
     "execution_count": 51,
     "metadata": {},
     "output_type": "execute_result"
    }
   ],
   "source": [
    "train.loc[: , ['Fare', 'Embarked']].groupby('Embarked').describe()"
   ]
  },
  {
   "cell_type": "markdown",
   "id": "01964eaa",
   "metadata": {},
   "source": [
    "From the statistical description alone, we see that the fares from Cherbourg are, on average, more expensive. This, in turn, might explain the larger survival rate. Let us filter all the fares under $32.2. "
   ]
  },
  {
   "cell_type": "code",
   "execution_count": 96,
   "id": "fd2a3511",
   "metadata": {},
   "outputs": [],
   "source": [
    "fareport_pass = train.loc[train['Fare'] < 32.2, 'Embarked'].value_counts()\n",
    "s_fareport_pass = train.loc[(train['Survived'] == 1) & (train['Fare'] < 32.2), 'Embarked'].value_counts()\n",
    "\n",
    "perc_s_fareport = s_fareport_pass / fareport_pass * 100"
   ]
  },
  {
   "cell_type": "code",
   "execution_count": 97,
   "id": "b17f855b",
   "metadata": {},
   "outputs": [
    {
     "data": {
      "text/plain": [
       "S    511\n",
       "C     94\n",
       "Q     75\n",
       "Name: Embarked, dtype: int64"
      ]
     },
     "execution_count": 97,
     "metadata": {},
     "output_type": "execute_result"
    }
   ],
   "source": [
    "fareport_pass"
   ]
  },
  {
   "cell_type": "code",
   "execution_count": 98,
   "id": "0c0e44f7",
   "metadata": {},
   "outputs": [
    {
     "data": {
      "text/plain": [
       "S    149\n",
       "C     38\n",
       "Q     29\n",
       "Name: Embarked, dtype: int64"
      ]
     },
     "execution_count": 98,
     "metadata": {},
     "output_type": "execute_result"
    }
   ],
   "source": [
    "s_fareport_pass"
   ]
  },
  {
   "cell_type": "code",
   "execution_count": 99,
   "id": "ef37bad1",
   "metadata": {},
   "outputs": [
    {
     "data": {
      "text/plain": [
       "S    29.158513\n",
       "C    40.425532\n",
       "Q    38.666667\n",
       "Name: Embarked, dtype: float64"
      ]
     },
     "execution_count": 99,
     "metadata": {},
     "output_type": "execute_result"
    }
   ],
   "source": [
    "perc_s_fareport"
   ]
  },
  {
   "cell_type": "code",
   "execution_count": 100,
   "id": "ab03fe8e",
   "metadata": {},
   "outputs": [
    {
     "data": {
      "image/png": "[encoded data removed]",
      "text/plain": [
       "<Figure size 1008x432 with 1 Axes>"
      ]
     },
     "metadata": {
      "needs_background": "light"
     },
     "output_type": "display_data"
    }
   ],
   "source": [
    "x = ['Southampton', 'Cherbourg', 'Queenstown']\n",
    "plt.figure(figsize = (14,6))\n",
    "plt.bar(x, perc_s_fareport, color = 'blue')\n",
    "plt.ylabel(\"Survival Rate\")\n",
    "plt.xlabel(\"Port\")\n",
    "plt.show()"
   ]
  },
  {
   "cell_type": "markdown",
   "id": "e6e054d1",
   "metadata": {},
   "source": [
    "By selecting all the passengers with fares below the average of \\\\$32.20, we find a more balanced distribution in the survival rates. This is futher evidence for the connection between port and fare.\n",
    "\n",
    "Furthermore, the fact that Southampton is the first port and has the lowest survival rate might also be evidence that the cabins of the first boarders might be lesser favored in order of evacuation. "
   ]
  },
  {
   "cell_type": "code",
   "execution_count": 102,
   "id": "9246e31d",
   "metadata": {
    "scrolled": false
   },
   "outputs": [
    {
     "data": {
      "image/png": "[encoded data removed]",
      "text/plain": [
       "<Figure size 1008x432 with 1 Axes>"
      ]
     },
     "metadata": {
      "needs_background": "light"
     },
     "output_type": "display_data"
    }
   ],
   "source": [
    "plt.figure(figsize = (14, 6))\n",
    "plt.title('Big graph')\n",
    "plt.xlabel('Port')\n",
    "plt.ylabel('Fare')\n",
    "ax = sns.boxplot(x = \"Embarked\", y = \"Fare\",\n",
    "                 data = train , palette=\"Set2\")"
   ]
  },
  {
   "cell_type": "markdown",
   "id": "1d723686",
   "metadata": {},
   "source": [
    "In the bivariate analysis we shall futher investigate this connection between port and fare cost. For now, it is sufficient to understand that there is a sense to the idea that the first ones to board the Titanic (from Southampton) have smaller survival rates than the rest. Also, there may be a connection between port of embarkment and fare cost, which in turn influences the distinct survival rates for each port."
   ]
  },
  {
   "cell_type": "markdown",
   "id": "76ae5f43",
   "metadata": {},
   "source": [
    "## Conclusions"
   ]
  },
  {
   "cell_type": "markdown",
   "id": "5c710730",
   "metadata": {},
   "source": [
    "From the univariate analysis, we have concluded that:\n",
    "\n",
    "- Women have much higher chances of survival compared to men (74% vs. 19%).\n",
    "\n",
    "- The extremal age groups (0-14) and (65+) have the highest (54%) and the lowest survival rates (1 in 11, 9%), respectively.\n",
    "\n",
    "- The higher the ticket class, the higher the survival rate.\n",
    "\n",
    "- The higher the SibSp number, the lower the survival rate, reaching 0% for SibSp >= 5.\n",
    "\n",
    "- The survival rate is highest when Parch is 3, decreasing as one tends to the extremes. Exactly 0% for for Parch = 4 or 6.\n",
    "\n",
    "- The survival rate is higher the more expensive the ticket fare, with extremes of 13% for fares in the interval [0.00, 7.36] and 68% in the interval [57.00, 513.00]. In addition, there is a group of 15 people with free tickets, which have a very low survival rate (only 1 in 15, 7%)."
   ]
  },
  {
   "cell_type": "code",
   "execution_count": null,
   "id": "71c0349a",
   "metadata": {},
   "outputs": [],
   "source": []
  }
 ],
 "metadata": {
  "kernelspec": {
   "display_name": "Python 3 (ipykernel)",
   "language": "python",
   "name": "python3"
  },
  "language_info": {
   "codemirror_mode": {
    "name": "ipython",
    "version": 3
   },
   "file_extension": ".py",
   "mimetype": "text/x-python",
   "name": "python",
   "nbconvert_exporter": "python",
   "pygments_lexer": "ipython3",
   "version": "3.9.12"
  }
 },
 "nbformat": 4,
 "nbformat_minor": 5
}
